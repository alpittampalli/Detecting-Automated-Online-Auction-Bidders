{
 "cells": [
  {
   "cell_type": "markdown",
   "metadata": {},
   "source": [
    "# Can an Algorithm Reliably Detect Robot Bids in an Online Auction?: A Classification Project"
   ]
  },
  {
   "cell_type": "markdown",
   "metadata": {},
   "source": [
    "Online auction sites have a problem: automated bidders, with frustrating regularity, swoop in at the last minute and  steal auctions from enthusastic human users. Sites desperately want to ban these bots, but automated bidders, on the surface, look just like human users, so how can we tell the difference? To help, I used bidder data from an online aution site to build a model that could reliably distinguish robots from humans. And because I prioritized recall highly -- even if we end up bothering a few humans, let's catch as many pesky robots as possible -- I privileged the F1 score as my go-to success metric. "
   ]
  },
  {
   "cell_type": "code",
   "execution_count": 2,
   "metadata": {
    "ExecuteTime": {
     "end_time": "2019-12-10T14:41:04.366102Z",
     "start_time": "2019-12-10T14:41:04.312155Z"
    }
   },
   "outputs": [],
   "source": [
    "import pandas as pd\n",
    "import numpy as np\n",
    "\n",
    "# visualization imports\n",
    "import matplotlib.pyplot as plt\n",
    "import seaborn as sns\n",
    "plt.style.use('fivethirtyeight')\n",
    "%matplotlib inline\n",
    "\n",
    "# modelling imports\n",
    "from sklearn.linear_model import LogisticRegression\n",
    "from sklearn.model_selection import train_test_split\n",
    "from sklearn.metrics import precision_score, recall_score, accuracy_score, roc_auc_score, f1_score, fbeta_score\n",
    "from sklearn.metrics import confusion_matrix\n",
    "from sklearn.preprocessing import StandardScaler\n",
    "\n",
    "#display options\n",
    "pd.options.display.float_format = '{:.4f}'.format"
   ]
  },
  {
   "cell_type": "markdown",
   "metadata": {},
   "source": [
    "# Step One: Read in the Data"
   ]
  },
  {
   "cell_type": "markdown",
   "metadata": {},
   "source": [
    "I began by reading in my data into separate pandas dataframes. The bidders dataset includes bidder userIDs along with labels that indicate whether that user has been found to be a human or a robot was read into df_bidders. \n",
    "\n",
    "The bids dataset includes a list of 7.6 million and corresponding information such as: time, country, merchandise category, device was read into df_bids. Also, for each bid, I then appended the bidders dataset info, to this dataframe."
   ]
  },
  {
   "cell_type": "code",
   "execution_count": 24,
   "metadata": {
    "ExecuteTime": {
     "end_time": "2019-12-10T15:01:11.663450Z",
     "start_time": "2019-12-10T15:00:02.038081Z"
    }
   },
   "outputs": [],
   "source": [
    "df_bidders = pd.read_csv(\"train.csv\")\n",
    "df_bids = pd.read_csv(\"nyc19_ds21/bids.csv\")\n",
    "df_bids = pd.merge(df_bids, df_bidders, on=\"bidder_id\")"
   ]
  },
  {
   "cell_type": "markdown",
   "metadata": {},
   "source": [
    "<H1>Step Two: Engineer Features"
   ]
  },
  {
   "cell_type": "markdown",
   "metadata": {},
   "source": [
    "In order to build a classification model, I needed to engineer useful features, from the raw data in df_bids, that distinguish between humans and robots. I'll tack those features onto df_bidders, which is the dataframe I'll later use for modeling."
   ]
  },
  {
   "cell_type": "code",
   "execution_count": 31,
   "metadata": {
    "ExecuteTime": {
     "end_time": "2019-12-10T15:10:51.681487Z",
     "start_time": "2019-12-10T15:10:41.734278Z"
    }
   },
   "outputs": [],
   "source": [
    "#HOW OFTEN DO USERS PLACE SIMULTANEOUS BIDS?\n",
    "\n",
    "def simultaneous_bids(times):\n",
    "    return len(set(times))==len(times)\n",
    "\n",
    "df_simult_bids = pd.DataFrame(df_bids.groupby([\"bidder_id\"])\n",
    "                              .apply(lambda x: simultaneous_bids(x[\"time\"]))).reset_index()\n",
    "\n",
    "df_bidders = pd.merge(df_simult_bids, df_bidders, on=\"bidder_id\")\n",
    "df_bidders = df_bidders.rename(columns = {0:\"simult_bids\"})\n",
    "df_bidders = df_bidders[['bidder_id', 'payment_account', 'address', 'outcome', 'simult_bids']]"
   ]
  },
  {
   "cell_type": "code",
   "execution_count": 32,
   "metadata": {
    "ExecuteTime": {
     "end_time": "2019-12-10T15:11:19.351041Z",
     "start_time": "2019-12-10T15:11:12.514297Z"
    }
   },
   "outputs": [],
   "source": [
    "#DOES A USER MAKE BIDS FROM MULTIPLE COUNTRIES?\n",
    "\n",
    "def mult_countries(countries):\n",
    "    return len(set(countries))==len(countries)\n",
    "\n",
    "df_mult_countries = pd.DataFrame(df_bids.groupby([\"bidder_id\"])\n",
    "                               .apply(lambda x: mult_countries(x[\"time\"]))).reset_index()\n",
    "df_mult_countries = df_mult_countries.rename(columns ={0:\"mult_countries\"})\n",
    "df_bidders = pd.merge(df_mult_countries, df_bidders, on=\"bidder_id\")\n",
    "df_bidders = df_bidders[['bidder_id', 'payment_account', 'address', 'outcome', 'simult_bids', 'mult_countries']]"
   ]
  },
  {
   "cell_type": "code",
   "execution_count": 33,
   "metadata": {
    "ExecuteTime": {
     "end_time": "2019-12-10T15:11:34.275943Z",
     "start_time": "2019-12-10T15:11:19.374805Z"
    }
   },
   "outputs": [],
   "source": [
    "#WHICH CATEGORIES DOES A USER BID ON?\n",
    "\n",
    "df_merch_dummies = pd.get_dummies(df_bids, columns=['merchandise'])\n",
    "df_merch_dummies = (df_merch_dummies.groupby([\"bidder_id\"]).agg({\n",
    "    \"merchandise_auto parts\": lambda x: sum(x)>0, \n",
    "    \"merchandise_books and music\": lambda x: sum(x)>0, \n",
    "    \"merchandise_clothing\": lambda x: sum(x)>0, \n",
    "    \"merchandise_computers\": lambda x: sum(x)>0,\n",
    "    \"merchandise_furniture\": lambda x: sum(x)>0, \n",
    "    \"merchandise_home goods\": lambda x: sum(x)>0, \n",
    "    \"merchandise_jewelry\": lambda x: sum(x)>0, \n",
    "    \"merchandise_mobile\": lambda x: sum(x)>0, \n",
    "    \"merchandise_office equipment\": lambda x: sum(x)>0,\n",
    "    \"merchandise_sporting goods\": lambda x: sum(x)>0}).reset_index())\n",
    "df_bidders = pd.merge(df_bidders, df_merch_dummies, on=\"bidder_id\")"
   ]
  },
  {
   "cell_type": "code",
   "execution_count": 34,
   "metadata": {
    "ExecuteTime": {
     "end_time": "2019-12-10T15:11:38.904813Z",
     "start_time": "2019-12-10T15:11:34.289842Z"
    }
   },
   "outputs": [],
   "source": [
    "#WHAT'S THE MOST FREQUENT MERCHANDISE CATEGORY A USER BIDS ON?\n",
    "\n",
    "most_freq_merch = df_bids.groupby([\"bidder_id\"]).agg({\"merchandise\": lambda x:x.value_counts().index[0]})\n",
    "most_freq_merch = most_freq_merch.reset_index()\n",
    "most_freq_merch_dummies = pd.get_dummies(most_freq_merch, columns=['merchandise'])\n",
    "df_bidders = pd.merge(df_bidders, most_freq_merch_dummies, on=\"bidder_id\")"
   ]
  },
  {
   "cell_type": "code",
   "execution_count": 35,
   "metadata": {
    "ExecuteTime": {
     "end_time": "2019-12-10T15:11:39.548985Z",
     "start_time": "2019-12-10T15:11:38.908948Z"
    }
   },
   "outputs": [],
   "source": [
    "#TOTAL BIDS PER USER\n",
    "\n",
    "user_total_bids = df_bids.groupby(\"bidder_id\").agg({\"bid_id\":\"count\"}).reset_index()\n",
    "user_total_bids = user_total_bids.rename(columns={\"bid_id\": \"user_total_bids\"})\n",
    "df_bidders = pd.merge(df_bidders, user_total_bids, on=\"bidder_id\")"
   ]
  },
  {
   "cell_type": "code",
   "execution_count": 36,
   "metadata": {
    "ExecuteTime": {
     "end_time": "2019-12-10T15:11:40.665209Z",
     "start_time": "2019-12-10T15:11:39.554153Z"
    }
   },
   "outputs": [],
   "source": [
    "#AVERAGE BIDS PER AUCTION\n",
    "\n",
    "df_bids_per_auction = df_bids.groupby([\"bidder_id\",\"auction\"]).agg({\"bid_id\":\"count\"}).reset_index()\n",
    "df_avg_bids_per_auction = df_bids_per_auction.groupby([\"bidder_id\"]).agg({\"bid_id\":\"mean\"}).reset_index()\n",
    "df_bidders = pd.merge(df_bidders, df_avg_bids_per_auction, on=\"bidder_id\")\n",
    "df_bidders = df_bidders.rename(columns={\"bid_id\":\"avg_bids_per_auction\"})"
   ]
  },
  {
   "cell_type": "code",
   "execution_count": 37,
   "metadata": {
    "ExecuteTime": {
     "end_time": "2019-12-10T15:11:43.363216Z",
     "start_time": "2019-12-10T15:11:40.668715Z"
    }
   },
   "outputs": [],
   "source": [
    "#TIME SINCE USER'S LAST BID\n",
    "\n",
    "df_bids[\"previous_time\"] = df_bids.groupby(\"bidder_id\")[\"time\"].apply(lambda grp: grp.shift(1))\n",
    "df_bids[\"time_since_previous_bid\"] = df_bids[\"time\"] - df_bids[\"previous_time\"]\n",
    "np.mean(df_bids[\"time_since_previous_bid\"])\n",
    "df_bids[\"time_since_previous_bid\"] = df_bids[\"time_since_previous_bid\"].fillna(20346641016.565506)\n",
    "time_since_previous_bid_df = df_bids.groupby(\"bidder_id\").agg({\"time_since_previous_bid\":\"median\"}).reset_index()\n",
    "df_bidders = pd.merge(df_bidders, time_since_previous_bid_df, on=\"bidder_id\")"
   ]
  },
  {
   "cell_type": "code",
   "execution_count": 38,
   "metadata": {
    "ExecuteTime": {
     "end_time": "2019-12-10T15:11:56.131765Z",
     "start_time": "2019-12-10T15:11:43.366187Z"
    }
   },
   "outputs": [],
   "source": [
    "#TIME SINCE PREVIOUS AUCTION BID \n",
    "\n",
    "df_bids[\"last_auction_bid_time\"] = df_bids.sort_values(\"time\").groupby(\"auction\")[\"time\"].apply(lambda grp: grp.shift(1))\n",
    "df_bids[\"time_since_last_auction_bid\"] = df_bids[\"time\"] - df_bids[\"last_auction_bid_time\"]\n",
    "time_since_last_auction_bid_df = df_bids.groupby(\"bidder_id\").agg({\"time_since_last_auction_bid\":\"mean\"}).reset_index()\n",
    "np.mean(time_since_last_auction_bid_df.iloc[:,1])\n",
    "time_since_last_auction_bid_df[\"time_since_last_auction_bid\"] = time_since_last_auction_bid_df[\"time_since_last_auction_bid\"].fillna(167791155941.16702)\n",
    "df_bidders = pd.merge(df_bidders, time_since_last_auction_bid_df, on=\"bidder_id\")"
   ]
  },
  {
   "cell_type": "markdown",
   "metadata": {},
   "source": [
    "<H1>Step Three: Prepare a Model Scoring Function"
   ]
  },
  {
   "cell_type": "markdown",
   "metadata": {},
   "source": [
    "Since, when modeling, I'll need to test several different combinations of features and model types, for efficiency, I'll build a function that inputs features, model types, and decision tresholds, runs repeated stratified kfold cross validation, and prints out a comprehensive custom report included several different classification metrics."
   ]
  },
  {
   "cell_type": "code",
   "execution_count": 45,
   "metadata": {
    "ExecuteTime": {
     "end_time": "2019-12-10T15:24:02.364078Z",
     "start_time": "2019-12-10T15:24:02.287819Z"
    }
   },
   "outputs": [],
   "source": [
    "def split_and_repeated_strat_cross_val(df, model, features, target, dt):\n",
    "    \n",
    "    # Split dataframe into features (X) and target (y)\n",
    "    \n",
    "    X = df[features]\n",
    "    y = df[target]\n",
    "    X, y = np.array(X), np.array(y)\n",
    "    \n",
    "    # Use repeated stratified kfold cross validation, and store metrics for each. \n",
    "    \n",
    "    from sklearn.model_selection import RepeatedStratifiedKFold\n",
    "    rskf = RepeatedStratifiedKFold(n_splits=5, n_repeats=20, random_state=32)\n",
    "    cv_F1, cv_F2, cv_precision, cv_recall, cv_accuracy, cv_roc_auc_score = [], [], [], [], [], [] #collect the validation results for both models\n",
    "    \n",
    "    for train_ind, val_ind in rskf.split(X,y):\n",
    "        X_train, y_train = X[train_ind], y[train_ind]\n",
    "        X_val, y_val = X[val_ind], y[val_ind] \n",
    "\n",
    "        model.fit(X_train, y_train)\n",
    "    \n",
    "        val_pred = (model.predict_proba(X_val)[:,1] > dt)\n",
    "        lr_probs = model.predict_proba(X_val)[:,1]\n",
    "\n",
    "        cv_F1.append(f1_score(y_val, val_pred))\n",
    "        cv_F2.append(fbeta_score(y_val, val_pred, average=None, beta=2))\n",
    "        cv_precision.append(precision_score(y_val, val_pred))\n",
    "        cv_recall.append(recall_score(y_val, val_pred))\n",
    "        cv_accuracy.append(accuracy_score(y_val, val_pred))\n",
    "        cv_roc_auc_score.append(roc_auc_score(y_val, lr_probs))\n",
    "    cm = confusion_matrix(y_val, val_pred)\n",
    "    \n",
    "    # Print a custom report that details the cross validation mean values for each metric\n",
    "    \n",
    "    print(\"F1 SCORE:\", np.mean(cv_F1))\n",
    "    print(\"F2 SCORE:\", np.mean(cv_F2))\n",
    "    print(\"PRECISION:\", np.mean(cv_precision))\n",
    "    print(\"RECALL:\", np.mean(cv_recall))\n",
    "    print(\"ACCURACY: \", np.mean(cv_accuracy))\n",
    "    print(\"CONFUSION MATRIX (5th Fold): \\n\", cm, \"\\n\")     \n",
    "    print(\"ROC_AUC_SCORE: \", np.mean(cv_roc_auc_score))\n",
    "    \n",
    "    # Finally, print an ROC curve visualization\n",
    "    \n",
    "    from sklearn.metrics import roc_curve\n",
    "    fpr, tpr, _ = roc_curve(y_val, model.predict_proba(X_val)[:,1])\n",
    "    plt.plot(fpr, tpr)\n",
    "    x = np.linspace(0,1,100000)\n",
    "    plt.plot(x, x, linestyle='--')\n",
    "    plt.title('ROC Curve')\n",
    "    plt.xlabel('False Positive Rate')\n",
    "    plt.ylabel('True Positive Rate')\n",
    "    "
   ]
  },
  {
   "cell_type": "markdown",
   "metadata": {},
   "source": [
    "<h1>Step Four: Prepare Various Model Types"
   ]
  },
  {
   "cell_type": "markdown",
   "metadata": {},
   "source": [
    "Setting up various model types to use in the next section."
   ]
  },
  {
   "cell_type": "code",
   "execution_count": 20,
   "metadata": {
    "ExecuteTime": {
     "end_time": "2019-12-10T14:52:36.667624Z",
     "start_time": "2019-12-10T14:52:36.092620Z"
    }
   },
   "outputs": [],
   "source": [
    "from sklearn.linear_model import LogisticRegression\n",
    "lr = LogisticRegression()\n",
    "\n",
    "from sklearn.ensemble import RandomForestClassifier\n",
    "rf = RandomForestClassifier(n_estimators=100)\n",
    "\n",
    "from sklearn.ensemble import GradientBoostingClassifier\n",
    "gb = GradientBoostingClassifier(n_estimators=20, learning_rate = .20, max_features=2, max_depth = 2, random_state = 0)\n",
    "\n",
    "from sklearn.neighbors import KNeighborsClassifier\n",
    "knn = KNeighborsClassifier(n_neighbors=11)"
   ]
  },
  {
   "cell_type": "markdown",
   "metadata": {},
   "source": [
    "<h1>Step Five: Score Various Models\n",
    "   "
   ]
  },
  {
   "cell_type": "markdown",
   "metadata": {},
   "source": [
    "After testing various combinations of features, model types, and decision thresholds, it was the following arrangement that led to the best F1 score (not to mention, a respectable ROC AUC score). This is the model we'll ship."
   ]
  },
  {
   "cell_type": "code",
   "execution_count": 67,
   "metadata": {
    "ExecuteTime": {
     "end_time": "2019-12-10T15:53:36.020024Z",
     "start_time": "2019-12-10T15:53:33.154518Z"
    }
   },
   "outputs": [
    {
     "name": "stdout",
     "output_type": "stream",
     "text": [
      "F1 SCORE: 0.3717786430820598\n",
      "F2 SCORE: 0.6838251295905278\n",
      "PRECISION: 0.32014383775474664\n",
      "RECALL: 0.4589761904761904\n",
      "ACCURACY:  0.9200875714731201\n",
      "CONFUSION MATRIX (5th Fold): \n",
      " [[359  17]\n",
      " [  9  11]] \n",
      "\n",
      "ROC_AUC_SCORE:  0.8721722070268934\n"
     ]
    },
    {
     "data": {
      "image/png": "[encoded data removed]",
      "text/plain": [
       "<Figure size 432x288 with 1 Axes>"
      ]
     },
     "metadata": {
      "needs_background": "light"
     },
     "output_type": "display_data"
    }
   ],
   "source": [
    "features = ['simult_bids', 'avg_bids_per_auction', 'merchandise_auto parts_y',\n",
    "       'merchandise_books and music_y', 'merchandise_clothing_y',\n",
    "       'merchandise_computers_y', 'merchandise_furniture_y',\n",
    "       'merchandise_home goods_y', 'merchandise_jewelry_y', 'merchandise_mobile_y',\n",
    "       'merchandise_office equipment_y', 'merchandise_sporting goods_y', \n",
    "        'time_since_previous_bid', 'time_since_last_auction_bid']\n",
    "target = [\"outcome\"]\n",
    "dt = .20\n",
    "split_and_repeated_strat_cross_val(df_bidders, gb, features, target, dt)"
   ]
  },
  {
   "cell_type": "markdown",
   "metadata": {
    "ExecuteTime": {
     "end_time": "2019-12-10T15:48:23.915983Z",
     "start_time": "2019-12-10T15:48:23.858453Z"
    }
   },
   "source": [
    "# Conclusion:"
   ]
  },
  {
   "cell_type": "markdown",
   "metadata": {},
   "source": [
    "After engineering various features, testing out different model types, and decision thresholds, I ended up with a gradient boosting algorithm that successfully detected robots with an F1 score of .68. Of course, as soon as we deploy this model, bots will certainly adapt to try to evade detection, so we'll need to continually adapt with them if we want to rid auction sites of these pesky bumbling, bags of bolts forever."
   ]
  }
 ],
 "metadata": {
  "kernelspec": {
   "display_name": "Python 3",
   "language": "python",
   "name": "python3"
  },
  "language_info": {
   "codemirror_mode": {
    "name": "ipython",
    "version": 3
   },
   "file_extension": ".py",
   "mimetype": "text/x-python",
   "name": "python",
   "nbconvert_exporter": "python",
   "pygments_lexer": "ipython3",
   "version": "3.7.3"
  },
  "toc": {
   "base_numbering": 1,
   "nav_menu": {},
   "number_sections": false,
   "sideBar": true,
   "skip_h1_title": false,
   "title_cell": "Table of Contents",
   "title_sidebar": "Contents",
   "toc_cell": false,
   "toc_position": {},
   "toc_section_display": true,
   "toc_window_display": false
  }
 },
 "nbformat": 4,
 "nbformat_minor": 2
}
